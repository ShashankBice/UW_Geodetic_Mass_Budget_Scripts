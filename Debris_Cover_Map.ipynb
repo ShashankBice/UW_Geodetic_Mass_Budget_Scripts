{
 "cells": [
  {
   "cell_type": "code",
   "execution_count": null,
   "metadata": {
    "collapsed": true
   },
   "outputs": [],
   "source": [
    "#importing the libraries required for the evaluation\n",
    "import numpy as np\n",
    "import rasterio\n",
    "from pygeotools.lib import malib, warplib, iolib,geolib, timelib\n",
    "import numpy.ma as ma\n",
    "%matplotlib inline\n",
    "import matplotlib.pyplot as plt\n",
    "import os\n",
    "import pandas as pd\n",
    "from imview.lib import pltlib\n",
    "from osgeo import gdal, ogr"
   ]
  },
  {
   "cell_type": "markdown",
   "metadata": {},
   "source": [
    "### Reading RED and SWIR Bands of Landsat ETM+"
   ]
  },
  {
   "cell_type": "code",
   "execution_count": null,
   "metadata": {},
   "outputs": [],
   "source": [
    "fn1='LE71480371999229AGS00_B3.TIF'\n",
    "fn2='LE71480371999229AGS00_B5.TIF'\n",
    "fn_list=[fn1,fn2]\n",
    "ds_list = warplib.memwarp_multi_fn(fn_list, extent='intersection', res='max', t_srs=fn1)"
   ]
  },
  {
   "cell_type": "code",
   "execution_count": null,
   "metadata": {
    "collapsed": true
   },
   "outputs": [],
   "source": [
    "band_ratio=ma.asarray(red,dtype=np.float32)/ma.asarray(swir,dtype=np.float32)"
   ]
  },
  {
   "cell_type": "code",
   "execution_count": null,
   "metadata": {
    "scrolled": true
   },
   "outputs": [],
   "source": [
    "malib.print_stats(band_ratio)"
   ]
  },
  {
   "cell_type": "markdown",
   "metadata": {},
   "source": [
    "### Limiting Band Ratio of Red/SWIR to 2.2 (Kaab et al. 2012) "
   ]
  },
  {
   "cell_type": "code",
   "execution_count": null,
   "metadata": {
    "collapsed": true
   },
   "outputs": [],
   "source": [
    "debris=ma.masked_outside(band_ratio,0, 2.2)"
   ]
  },
  {
   "cell_type": "markdown",
   "metadata": {},
   "source": [
    "### Eliminating scattered Pixels as Noise using the mask_island function (malib, pygeotools)\n",
    "## Be careful on the number of itereations, higher iterations might filter out valid continous data near edges as well"
   ]
  },
  {
   "cell_type": "code",
   "execution_count": null,
   "metadata": {
    "collapsed": true
   },
   "outputs": [],
   "source": [
    "Debris_Islands_masked=malib.mask_islands(debris,iterations=2)"
   ]
  },
  {
   "cell_type": "code",
   "execution_count": null,
   "metadata": {},
   "outputs": [],
   "source": [
    "out_fn = 'Debris_cleaned_2.tif' \n",
    "iolib.writeGTiff(Debris_Islands_masked, out_fn, ds_list[1]) #Debris Cover Map with isolated pixels removed"
   ]
  },
  {
   "cell_type": "markdown",
   "metadata": {},
   "source": [
    "### Reading shapefiles as updatable Features, Entering the percentage Debris covered per feature into a newly created field \"ECW\""
   ]
  },
  {
   "cell_type": "code",
   "execution_count": null,
   "metadata": {
    "collapsed": true
   },
   "outputs": [],
   "source": [
    "source = ogr.Open('Drung_drung.shp', update=True)\n",
    "layer = source.GetLayer()\n",
    "layer_defn = layer.GetLayerDefn()\n",
    "new_field = ogr.FieldDefn(\"ECW\", ogr.OFTReal)\n",
    "layer.CreateField(new_field)\n",
    "source = None"
   ]
  },
  {
   "cell_type": "code",
   "execution_count": null,
   "metadata": {},
   "outputs": [],
   "source": [
    "glac_shp_fn='Drung_drung.shp'\n",
    "glac_shp_ds = ogr.Open(glac_shp_fn, update=True) #shapefile_dataset\n",
    "glac_shp_lyr = glac_shp_ds.GetLayer() #layer of shapefile, all the operations are performed on it....\n",
    "glac_shp_srs = glac_shp_lyr.GetSpatialRef() #Spatial_reference_of_shapefile\n",
    "feat_count = glac_shp_lyr.GetFeatureCount() #Feature_Count\n",
    "print(\"Input glacier polygon count: %i\" % feat_count)\n"
   ]
  },
  {
   "cell_type": "code",
   "execution_count": null,
   "metadata": {},
   "outputs": [],
   "source": [
    "print str(glac_shp_srs)"
   ]
  },
  {
   "cell_type": "code",
   "execution_count": null,
   "metadata": {},
   "outputs": [],
   "source": [
    "#dh_dt='WV_Carto_RateMaps-tile-0-last.tif' #input elevation_difference_map\n",
    "#dh_dt='Filtered_dh_1_5_IQR.tif' #input elevation_difference_map\n",
    "#z='B-tile-0.tif' #input DEM\n",
    "#dh_dt_ds=gdal.Open(dh_dt) \n",
    "#z_ds=gdal.Open(z)\n",
    "Landsat_geom = geolib.ds_geom_intersection(ds_list, t_srs=glac_shp_srs) #intersecting_extent\n",
    "glac_shp_lyr.SetSpatialFilter(Landsat_geom) #spatial filtering of shapefiles within extent\n",
    "feat_count = glac_shp_lyr.GetFeatureCount() #now only the polygons within the extents are considered\n",
    "print(\"Filtered glacier polygon count: %i\" % feat_count)\n",
    "glac_shp_lyr.ResetReading()"
   ]
  },
  {
   "cell_type": "code",
   "execution_count": null,
   "metadata": {
    "collapsed": true
   },
   "outputs": [],
   "source": [
    "debris_fieldname = \"Percentage_Final\"\n",
    "glacnum_fieldname = \"RGIId\""
   ]
  },
  {
   "cell_type": "code",
   "execution_count": null,
   "metadata": {
    "collapsed": true
   },
   "outputs": [],
   "source": [
    "for n, feat in enumerate(glac_shp_lyr):\n",
    "    print'Hi' #Check to see program flow...\n",
    "    #Extracting glacier id/name from input shapefiles\n",
    "    glacnum = feat.GetField(glacnum_fieldname)\n",
    "    glacnum = float(glacnum.split('-')[-1])\n",
    "    glacnum_fmt = '%0.5f'\n",
    "    feat_fn = str(glacnum)\n",
    "    print(\"\\n%i of %i: %s\\n\" % (n+1, feat_count, feat_fn))\n",
    "    glac_geom = feat.GetGeometryRef()\n",
    "    glac_geom.AssignSpatialReference(glac_shp_srs)\n",
    "    glac_geom_extent = geolib.geom_extent(glac_geom)\n",
    "    glac_area = glac_geom.GetArea()\n",
    "    print str(glac_area)\n",
    "    #warping the Landsat_Band and Debris_islanded into common extents\n",
    "    ds_list1 = warplib.memwarp_multi_fn([fn1, out_fn], res='max',r='bilinear',\n",
    "            extent=glac_geom_extent, t_srs='EPSG:32643', verbose=False)\n",
    "    glac_geom_mask = geolib.geom2mask(glac_geom, ds_list1[0])\n",
    "    total_pixel = ma.array(iolib.ds_getma(ds_list1[0]), mask=glac_geom_mask)\n",
    "    debris_pixel = ma.array(iolib.ds_getma(ds_list1[1]), mask=glac_geom_mask) \n",
    "    ds_res = geolib.get_res(ds_list[0])\n",
    "    valid_Total_area = total_pixel.count()*ds_res[0]*ds_res[1]\n",
    "    valid_Debris_area = debris_pixel.count()*ds_res[0]*ds_res[1]\n",
    "    Debris_area_perc = (valid_Debris_area/valid_Total_area)*100\n",
    "    print(\"Total_Area =\"+str(valid_Total_area))\n",
    "    print(\"Total_Debris_Area=\"+str(valid_Debris_area))\n",
    "    print(\"Debris_Area_Percentage=\"+str(Debris_area_perc))\n",
    "    glac_shp_lyr.SetFeature(feat)\n",
    "    feat.SetField(\"ECW\", Debris_area_perc)\n",
    "    glac_shp_lyr.SetFeature(feat)\n",
    "    #feat.SetField(debris_fieldname, Debris_area_perc)\n",
    "    #layer.SetFeature(feat)\n",
    "glac_shp_ds=None"
   ]
  },
  {
   "cell_type": "code",
   "execution_count": null,
   "metadata": {
    "collapsed": true
   },
   "outputs": [],
   "source": []
  }
 ],
 "metadata": {
  "kernelspec": {
   "display_name": "Python 2",
   "language": "python",
   "name": "python2"
  },
  "language_info": {
   "codemirror_mode": {
    "name": "ipython",
    "version": 2
   },
   "file_extension": ".py",
   "mimetype": "text/x-python",
   "name": "python",
   "nbconvert_exporter": "python",
   "pygments_lexer": "ipython2",
   "version": "2.7.13"
  }
 },
 "nbformat": 4,
 "nbformat_minor": 2
}
