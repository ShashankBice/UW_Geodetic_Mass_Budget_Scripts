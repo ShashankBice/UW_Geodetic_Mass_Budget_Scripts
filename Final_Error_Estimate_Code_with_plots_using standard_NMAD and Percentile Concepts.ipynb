{
 "cells": [
  {
   "cell_type": "code",
   "execution_count": 1,
   "metadata": {
    "collapsed": true
   },
   "outputs": [],
   "source": [
    "#importing the libraries required for the evaluation\n",
    "import numpy as np\n",
    "import rasterio\n",
    "from pygeotools.lib import malib, warplib, iolib,geolib,filtlib\n",
    "import numpy.ma as ma\n",
    "%matplotlib inline\n",
    "import matplotlib.pyplot as plt\n",
    "import os\n",
    "import pandas as pd\n",
    "import matplotlib.mlab as mlab"
   ]
  },
  {
   "cell_type": "code",
   "execution_count": 2,
   "metadata": {},
   "outputs": [
    {
     "name": "stdout",
     "output_type": "stream",
     "text": [
      "\n",
      "Warping all inputs to the following:\n",
      "Resolution: 10.0\n",
      "Extent: [551565.0, 3029605.0, 704093.339, 3115655.0]\n",
      "Projection: '+proj=utm +zone=45 +datum=WGS84 +units=m +no_defs '\n",
      "Resampling alg: cubic\n",
      "\n",
      "1 of 2: WV_CArto-tile-0-last_masked.tif\n",
      "nl: 8605 ns: 15253 res: 10.000\n",
      "2 of 2: B-tile-0.tif\n",
      "nl: 8605 ns: 15253 res: 10.000\n"
     ]
    },
    {
     "data": {
      "text/plain": [
       "[<osgeo.gdal.Dataset; proxy of <Swig Object of type 'GDALDatasetShadow *' at 0x7f97117df390> >,\n",
       " <osgeo.gdal.Dataset; proxy of <Swig Object of type 'GDALDatasetShadow *' at 0x7f974428b3c0> >]"
      ]
     },
     "execution_count": 2,
     "metadata": {},
     "output_type": "execute_result"
    }
   ],
   "source": [
    "#Warping files to disk\n",
    "files=['WV_CArto-tile-0-last_masked.tif','B-tile-0.tif']\n",
    "warplib.diskwarp_multi_fn(files, res='max', extent='intersection',t_srs='first',r='cubic')"
   ]
  },
  {
   "cell_type": "markdown",
   "metadata": {},
   "source": [
    "### Filtering slope to 30 and calculating stats.."
   ]
  },
  {
   "cell_type": "code",
   "execution_count": 3,
   "metadata": {},
   "outputs": [
    {
     "name": "stdout",
     "output_type": "stream",
     "text": [
      "gdaldem slope -co COMPRESS=LZW -co TILED=YES -co BIGTIFF=IF_SAFER B-tile-0_warp.tif B-tile-0_warp_slope.tif\n",
      "\n",
      "Warping all inputs to the following:\n",
      "Resolution: 10.0\n",
      "Extent: [551565.0, 3029605.0, 704095.0, 3115655.0]\n",
      "Projection: '+proj=utm +zone=45 +datum=WGS84 +units=m +no_defs '\n",
      "Resampling alg: cubic\n",
      "\n",
      "1 of 2: WV_CArto-tile-0-last_masked.tif\n",
      "2 of 2: DEM_slope_0_30.tif\n",
      "count: 14057700 min: -99.99 max: 99.95 mean: -0.38 std: 7.09 med: -0.06 mad: 2.35 q1: -1.62 q2: 1.55 iqr: 3.17 mode: 0.10 p16: -2.69 p84: 2.59 spread: 2.64\n"
     ]
    }
   ],
   "source": [
    "DEM_Slope_filtered=filtlib.slope_fltr(os.path.splitext(files[1])[0]+'_warp.tif') # filtering DEM slope less 30 degrees\n",
    "of='DEM_slope_0_30.tif'\n",
    "iolib.writeGTiff(DEM_Slope_filtered, of,files[0])\n",
    "ds_list=warplib.memwarp_multi_fn([files[0],of],res='max',extent='intersection',t_srs='first', r='cubic')\n",
    "A=iolib.ds_getma(ds_list[1])\n",
    "dh=iolib.ds_getma(ds_list[0])\n",
    "l=[dh,A]\n",
    "common_mask=malib.common_mask(l)\n",
    "A1=ma.array(A,mask=common_mask)\n",
    "dh1=ma.array(dh,mask=common_mask)\n",
    "M=malib.print_stats(dh1)\n",
    "Min=M[1]\n",
    "Max=M[2]\n",
    "Mean=M[3]\n",
    "Std=M[4]\n",
    "Med=M[5]\n",
    "IQR=M[9]"
   ]
  },
  {
   "cell_type": "markdown",
   "metadata": {},
   "source": [
    "### Mean +/- 3 *STD"
   ]
  },
  {
   "cell_type": "code",
   "execution_count": 4,
   "metadata": {},
   "outputs": [
    {
     "name": "stdout",
     "output_type": "stream",
     "text": [
      "count: 13753480 min: -21.64 max: 20.88 mean: -0.16 std: 4.19 med: -0.05 mad: 2.28 q1: -1.54 q2: 1.53 iqr: 3.07 mode: 0.17 p16: -2.53 p84: 2.52 spread: 2.53\n",
      "NMAD=3.376621\n",
      "68.3Percentile=1.013672\n"
     ]
    }
   ],
   "source": [
    "Max_STD=Mean+3*Std\n",
    "Min_STD=Mean-3*Std\n",
    "filt_dh_std=ma.masked_outside(dh1, Min_STD, Max_STD)\n",
    "M1=malib.print_stats(filt_dh_std)\n",
    "print 'NMAD=%f' %(M1[6]*1.4826)\n",
    "print '68.3Percentile=%f' %(np.percentile(ma.compressed(filt_dh_std),68.3))"
   ]
  },
  {
   "cell_type": "markdown",
   "metadata": {},
   "source": [
    "### Median +/- 1.5 Fold_Interquartile_Range"
   ]
  },
  {
   "cell_type": "code",
   "execution_count": 5,
   "metadata": {},
   "outputs": [
    {
     "name": "stdout",
     "output_type": "stream",
     "text": [
      "count: 12436387 min: -6.37 max: 6.30 mean: 0.04 std: 2.27 med: -0.01 mad: 1.99 q1: -1.31 q2: 1.39 iqr: 2.69 mode: 0.27 p16: -2.02 p84: 2.19 spread: 2.10\n",
      "NMAD=2.955487\n",
      "68.3Percentile=0.941895\n"
     ]
    }
   ],
   "source": [
    "Q1=M[7]\n",
    "Q3=M[8]\n",
    "U=Q3+1.5*IQR\n",
    "L=Q1-1.5*IQR\n",
    "filt_dh_1_5_IQR=ma.masked_outside(dh1, L, U)\n",
    "M2=malib.print_stats(filt_dh_1_5_IQR)\n",
    "print 'NMAD=%f' %(M2[6]*1.4826)\n",
    "print '68.3Percentile=%f' %(np.percentile(ma.compressed(filt_dh_1_5_IQR),68.3))\n"
   ]
  },
  {
   "cell_type": "code",
   "execution_count": 7,
   "metadata": {},
   "outputs": [
    {
     "data": {
      "image/png": "[encoded data removed]",
      "text/plain": [
       "<matplotlib.figure.Figure at 0x7f96e98394d0>"
      ]
     },
     "metadata": {},
     "output_type": "display_data"
    }
   ],
   "source": [
    "n, bins, patches = plt.hist(ma.compressed(filt_dh_std), 50, normed=1, facecolor='green', alpha=0.75)"
   ]
  },
  {
   "cell_type": "code",
   "execution_count": null,
   "metadata": {
    "collapsed": true
   },
   "outputs": [],
   "source": []
  }
 ],
 "metadata": {
  "kernelspec": {
   "display_name": "Python 2",
   "language": "python",
   "name": "python2"
  },
  "language_info": {
   "codemirror_mode": {
    "name": "ipython",
    "version": 2
   },
   "file_extension": ".py",
   "mimetype": "text/x-python",
   "name": "python",
   "nbconvert_exporter": "python",
   "pygments_lexer": "ipython2",
   "version": "2.7.13"
  }
 },
 "nbformat": 4,
 "nbformat_minor": 2
}
